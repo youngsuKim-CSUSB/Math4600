{
 "cells": [
  {
   "cell_type": "markdown",
   "metadata": {
    "slideshow": {
     "slide_type": "slide"
    }
   },
   "source": [
    "The SageMath file contains a few items.\n",
    "- Addition and multiplcation tables for $Z_m$,\n",
    "- Quotient and remainder of a polynomial in $Q[x]$,\n",
    "- You may request (or Google) additional methods,\n",
    "- and etc.\n",
    "\n",
    "You need to hit \"shift\"+\"return\" to excute codes below.\n",
    "\n",
    "You may use the online Sage Cell calculator; https://sagecell.sagemath.org/ (copy the whole block and paste it)\n",
    "    or you can choose to install SageMath or use their free online version, CoCalc."
   ]
  },
  {
   "cell_type": "code",
   "execution_count": 1,
   "metadata": {},
   "outputs": [
    {
     "data": {
      "text/plain": [
       "15"
      ]
     },
     "execution_count": 1,
     "metadata": {},
     "output_type": "execute_result"
    }
   ],
   "source": [
    "#GCD of integers\n",
    "gcd(285,255)"
   ]
  },
  {
   "cell_type": "markdown",
   "metadata": {},
   "source": [
    "Euclidean Algorithm\n",
    "xgcd computes the $\\gcd(a,b)$ and $x,y$ such that $gcd (a,b) = xa + yb$.\n"
   ]
  },
  {
   "cell_type": "code",
   "execution_count": 2,
   "metadata": {},
   "outputs": [
    {
     "data": {
      "text/plain": [
       "(15, -8, 9)"
      ]
     },
     "execution_count": 2,
     "metadata": {},
     "output_type": "execute_result"
    }
   ],
   "source": [
    "xgcd(285,255) "
   ]
  },
  {
   "cell_type": "markdown",
   "metadata": {},
   "source": [
    "Addition and Multiplication Tables\n",
    "You need to speficy the value of m for Z_m"
   ]
  },
  {
   "cell_type": "code",
   "execution_count": 3,
   "metadata": {},
   "outputs": [
    {
     "name": "stdout",
     "output_type": "stream",
     "text": [
      "Addition\n",
      "[0 1 2 3 4]\n",
      "[1 2 3 4 0]\n",
      "[2 3 4 0 1]\n",
      "[3 4 0 1 2]\n",
      "[4 0 1 2 3]\n",
      "Multiplcation\n",
      "[0 0 0 0 0]\n",
      "[0 1 2 3 4]\n",
      "[0 2 4 1 3]\n",
      "[0 3 1 4 2]\n",
      "[0 4 3 2 1]\n"
     ]
    }
   ],
   "source": [
    "#Change the RHS \n",
    "m=5 \n",
    "#Addtion\n",
    "A = matrix(QQ, m, m, lambda i, j: (i+j) % m);\n",
    "print(\"Addition\") \n",
    "print(A)\n",
    "#Multiplication\n",
    "M = matrix(QQ, m, m, lambda i, j: (i*j) % m); \n",
    "print(\"Multiplcation\") \n",
    "print(M)"
   ]
  },
  {
   "cell_type": "code",
   "execution_count": 4,
   "metadata": {
    "slideshow": {
     "slide_type": "slide"
    }
   },
   "outputs": [
    {
     "data": {
      "text/plain": [
       "(x + 1)*(x - 1)"
      ]
     },
     "execution_count": 4,
     "metadata": {},
     "output_type": "execute_result"
    }
   ],
   "source": [
    "factor (x^2-1)"
   ]
  },
  {
   "cell_type": "markdown",
   "metadata": {},
   "source": [
    "Quotient and Reminder in Q[x].\n",
    "The quotient of reminder when g(x) is divided by f(x) in Q[x]"
   ]
  },
  {
   "cell_type": "code",
   "execution_count": 5,
   "metadata": {
    "slideshow": {
     "slide_type": "subslide"
    }
   },
   "outputs": [
    {
     "data": {
      "text/plain": [
       "[1/2*x - 7/4, 15/4]"
      ]
     },
     "execution_count": 5,
     "metadata": {},
     "output_type": "execute_result"
    }
   ],
   "source": [
    "g(x)=x^2-3*x+2 \n",
    "f(x)=2*x+1\n",
    "g.maxima_methods().divide(f)"
   ]
  }
 ],
 "metadata": {
  "kernelspec": {
   "display_name": "SageMath 9.1",
   "language": "sage",
   "name": "sagemath"
  },
  "language_info": {
   "codemirror_mode": {
    "name": "ipython",
    "version": 3
   },
   "file_extension": ".py",
   "mimetype": "text/x-python",
   "name": "python",
   "nbconvert_exporter": "python",
   "pygments_lexer": "ipython3",
   "version": "3.7.3"
  }
 },
 "nbformat": 4,
 "nbformat_minor": 2
}
